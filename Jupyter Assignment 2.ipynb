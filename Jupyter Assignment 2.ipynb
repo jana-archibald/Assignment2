{
 "cells": [
  {
   "cell_type": "markdown",
   "metadata": {
    "editable": false
   },
   "source": [
    "### The first question is about the cdc data that you used in worksheet 3. Please run the code below to load the data. ###\n",
    "\n",
    "## Data Information: ##\n",
    "\n",
    "### Data Set 1: ###\n",
    "Today we will be using data from the CDC.  \n",
    "\n",
    "The Behavioral Risk Factor Surveillance System (BRFSS) is an annual telephone survey of 350,000 people in the United States. As its name implies, the BRFSS is designed to identify risk factors in the adult population and report emerging health trends. For example, respondents are asked about their diet and weekly physical activity, their HIV/AIDS status, possible tobacco use, and even their level of healthcare coverage. The BRFSS Web site (http://www.cdc.gov/brfss) contains a complete description of the survey, including the research questions that motivate the study and many interesting results derived from the data.\n",
    "\n",
    "While there are over **200** variables in this data set, we will work with a small subset.\n",
    "#### Name: #### \n",
    "* `cdc200` - health data from the sample of the BRFSS survey from 2000.\n",
    "\n",
    "#### Variables: ####\n",
    "* `genhlth` - respondents were asked to evaluate their general health, responding either excellent, very good, good, fair or poor\n",
    "* `exerany` - whether the respondent exercised in the past month (recent) or did not (not_recent).\n",
    "* `hlthplan` - whether the respondent had some form of health coverage (insured) or did not (uninsured).\n",
    "* `smoke100` - whether the respondent had smoked at least 100 cigarettes in her lifetime (smoker) or has not (nonsmoker).\n",
    "* `height` - the respondent's height measured in inches.\n",
    "* `weight` - the respondent's weight measured in pounds.\n",
    "* `wtdesire` - the respondent's desired weight measured in pounds.\n",
    "* `age` - the respondent's age measured in years.\n",
    "* `gender` - whether the respondent said they were female or male.\n"
   ]
  },
  {
   "cell_type": "code",
   "execution_count": 1,
   "metadata": {
    "editable": false
   },
   "outputs": [],
   "source": [
    "cdc <- read.csv(\"cdc200.csv\", header=TRUE)"
   ]
  },
  {
   "cell_type": "markdown",
   "metadata": {
    "editable": false
   },
   "source": [
    "## Question 1\n",
    "\n",
    "Compute the following probabilities. To show your work use R to create a contingency table, and use the code cells to compute the probabilites.\n",
    "\n",
    "For each answer use the correct probability notation.\n",
    "\n",
    "For example to compute the probability that a randomly selected individual has good general health your answer should be.\n",
    "\n",
    "P(good health)=52/200=0.26"
   ]
  },
  {
   "cell_type": "markdown",
   "metadata": {
    "editable": false
   },
   "source": [
    "A) The probability that a randomly selected individual is in good health.\n",
    "\n",
    "B) The probability that a randomly selected man is in poor health.\n",
    "\n",
    "C) The probability that a randomly selected individual is a woman who doesn't smoke.\n",
    "\n",
    "D) The probabiity that a randomly selected individual is a has a health plan, or is in excellent health.\n",
    "\n",
    "E) Are the events VG= \\{in very good health\\}, and NR = \\{no recent exercise \\} independent?  You must justify your answer with a calculation, and use the probability notation to show your work. Write (at least) one sentence explaining your answer."
   ]
  },
  {
   "cell_type": "code",
   "execution_count": null,
   "metadata": {},
   "outputs": [],
   "source": []
  },
  {
   "cell_type": "code",
   "execution_count": null,
   "metadata": {},
   "outputs": [],
   "source": []
  },
  {
   "cell_type": "code",
   "execution_count": null,
   "metadata": {},
   "outputs": [],
   "source": []
  },
  {
   "cell_type": "code",
   "execution_count": null,
   "metadata": {},
   "outputs": [],
   "source": []
  },
  {
   "cell_type": "code",
   "execution_count": null,
   "metadata": {},
   "outputs": [],
   "source": []
  },
  {
   "cell_type": "markdown",
   "metadata": {
    "editable": false
   },
   "source": [
    "---\n",
    "\n",
    "---\n",
    "\n",
    "--- \n",
    "\n",
    "### You may find it easier to complete the remaining questions on paper or using a different writting program. ##\n",
    "\n",
    "I have put them in the notebook so that all of the questions are in the same place but you can write your answers in what ever way is easist. Please make sure that your work is ledgible and shows all of your steps.\n",
    "\n",
    "---\n",
    "\n",
    "---\n",
    "\n",
    "---"
   ]
  },
  {
   "cell_type": "markdown",
   "metadata": {
    "editable": false
   },
   "source": [
    "##   Question 2  (Openintro 3.10 Guessing on an exam). \n",
    "\n",
    "\n",
    "In a multiple choice exam, there are 5 questions and 4 choices for each\n",
    "question (a, b, c, d). Nancy has not studied for the exam at all and decides to randomly guess the answers.\n",
    "\n",
    "\n",
    "What is the probability that:\n",
    "- (a) the first question she gets right is the 5th question?\n",
    "- (b) she gets all of the questions right?\n",
    "- (c) she gets at least one question right?\n",
    "\n",
    "You should show your work and use the P notation for probabilities, you can use a code block as a calculator."
   ]
  },
  {
   "cell_type": "code",
   "execution_count": 8,
   "metadata": {},
   "outputs": [
    {
     "data": {
      "image/png": "[encoded data removed]",
      "text/plain": [
       "Plot with title “NULL”"
      ]
     },
     "metadata": {
      "image/png": {
       "height": 420,
       "width": 420
      },
      "text/plain": {
       "height": 420,
       "width": 420
      }
     },
     "output_type": "display_data"
    }
   ],
   "source": []
  },
  {
   "cell_type": "markdown",
   "metadata": {},
   "source": [
    "2a) Spot for answer a"
   ]
  },
  {
   "cell_type": "markdown",
   "metadata": {},
   "source": [
    "2b) Spot for answer b"
   ]
  },
  {
   "cell_type": "markdown",
   "metadata": {},
   "source": [
    "2c) Spot for answer c"
   ]
  },
  {
   "cell_type": "markdown",
   "metadata": {
    "editable": false
   },
   "source": [
    "##  Question 3 (Textboo 3.8 Poverty and language). \n",
    "\n",
    "\n",
    "### This question is probably easier to do on paper.\n",
    "\n",
    "### When answering this question please show your work and use the probability notation.\n",
    "\n",
    "The American Community Survey is an ongoing survey that provides data\n",
    "every year to give communities the current information they need to plan investments and services. The\n",
    "2010 American Community Survey estimates that 14.6% of Americans live below the poverty line, 20.7%\n",
    "speak a language other than English (foreign language) at home, and 4.2% fall into both categories.\n",
    "\n",
    "\n",
    "(a) Are living below the poverty line and speaking a foreign language at home disjoint?\n",
    "\n",
    "(b) Draw a Venn diagram (or make a hypothetical hundered thousand table) summarizing the variables and their associated probabilities.\n",
    "\n",
    "(c) What percent of Americans live below the poverty line and only speak English at home?\n",
    "\n",
    "(d) What percent of Americans live below the poverty line or speak a foreign language at home?\n",
    "\n",
    "(e) What percent of Americans live above the poverty line and only speak English at home?\n",
    "\n",
    "(f) Is the event that someone lives below the poverty line independent of the event that the person speaks\n",
    "a foreign language at home?"
   ]
  },
  {
   "cell_type": "code",
   "execution_count": null,
   "metadata": {},
   "outputs": [],
   "source": []
  },
  {
   "cell_type": "code",
   "execution_count": null,
   "metadata": {},
   "outputs": [],
   "source": []
  },
  {
   "cell_type": "code",
   "execution_count": null,
   "metadata": {},
   "outputs": [],
   "source": []
  },
  {
   "cell_type": "code",
   "execution_count": null,
   "metadata": {},
   "outputs": [],
   "source": []
  },
  {
   "cell_type": "markdown",
   "metadata": {},
   "source": [
    "Answer 3a here"
   ]
  },
  {
   "cell_type": "markdown",
   "metadata": {},
   "source": [
    "Answer 3b here   - probably easier on paper!"
   ]
  },
  {
   "cell_type": "markdown",
   "metadata": {},
   "source": [
    "Answer 3c here"
   ]
  },
  {
   "cell_type": "markdown",
   "metadata": {},
   "source": [
    "Answer 3d here"
   ]
  },
  {
   "cell_type": "markdown",
   "metadata": {},
   "source": [
    "Answer 3e here"
   ]
  },
  {
   "cell_type": "markdown",
   "metadata": {},
   "source": [
    "Answer 3f here"
   ]
  },
  {
   "cell_type": "markdown",
   "metadata": {},
   "source": [
    "## Question 4\n",
    "\n",
    "To pass the time with a friend you play the following game. \n",
    "\n",
    "Your friend plays by flipping a coin.\n",
    "\n",
    "- If the first coin lands on heads the game is over and they win 1\\$. \n",
    "- If the second coin lands on heads the game is over and they win 2\\$.\n",
    "- If the third coin lands on heads the game is over and they win 3\\$.\n",
    "- If all three flips land on tails the game is over and they win 5\\$.\n",
    "\n",
    "\n",
    "A) Write out the table for this probability distribution. (Show your work computing the probabilities) \n",
    "\n",
    "B) How much would you charge your friend to play this game? Use expected value to justify your answer.\n",
    "\n",
    "C) What is the standard deviation of this random variable?\n",
    "\n",
    "D) IF you changed the game so that heads on the first flip meant your friend pays you 2\\$. (they lose 2 $) how would the expected value and the standard deviation change? You don't need to compute the new values (but you can if you want to) just explain why you think they will increase or decrease."
   ]
  },
  {
   "cell_type": "code",
   "execution_count": null,
   "metadata": {},
   "outputs": [],
   "source": []
  },
  {
   "cell_type": "code",
   "execution_count": null,
   "metadata": {},
   "outputs": [],
   "source": []
  },
  {
   "cell_type": "markdown",
   "metadata": {},
   "source": [
    "Answer 4a here  (easier on paper?)"
   ]
  },
  {
   "cell_type": "markdown",
   "metadata": {},
   "source": [
    "Answer 4b here"
   ]
  },
  {
   "cell_type": "markdown",
   "metadata": {},
   "source": [
    "Answer 4c here"
   ]
  },
  {
   "cell_type": "markdown",
   "metadata": {},
   "source": [
    "Answer 4d here"
   ]
  }
 ],
 "metadata": {
  "celltoolbar": "Edit Metadata",
  "kernelspec": {
   "display_name": "R",
   "language": "R",
   "name": "ir"
  },
  "language_info": {
   "codemirror_mode": "r",
   "file_extension": ".r",
   "mimetype": "text/x-r-source",
   "name": "R",
   "pygments_lexer": "r",
   "version": "3.6.2"
  }
 },
 "nbformat": 4,
 "nbformat_minor": 4
}
